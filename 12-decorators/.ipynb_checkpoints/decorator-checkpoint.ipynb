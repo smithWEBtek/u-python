{
 "cells": [
  {
   "cell_type": "code",
   "execution_count": 8,
   "metadata": {},
   "outputs": [
    {
     "name": "stdout",
     "output_type": "stream",
     "text": [
      "Francis, that is NOT cool.\n",
      "Beork, I am kind of cool.\n",
      "Freda, I am very cool!\n",
      "You might be cool, but you have no name.\n",
      "You might be cool, but you have no name.\n",
      "You might be cool, but you have no name.\n"
     ]
    }
   ],
   "source": [
    "def cool(func=0):\n",
    "    def not_cool(name='blank'):\n",
    "        if name != 'blank':\n",
    "            return f'{name}, that is NOT cool.'\n",
    "        else:\n",
    "            return \"You might be cool, but you have no name.\"\n",
    "\n",
    "    def medium_cool(name='blank'):\n",
    "        if name != 'blank':\n",
    "            return f'{name}, I am kind of cool.'\n",
    "        else:\n",
    "            return \"You might be cool, but you have no name.\"\n",
    "\n",
    "    def super_cool(name='blank'):\n",
    "        if name != 'blank':\n",
    "            return f'{name}, I am very cool!'\n",
    "        else:\n",
    "            return \"You might be cool, but you have no name.\"\n",
    "    if func == 1:\n",
    "        return not_cool\n",
    "    elif func == 2:\n",
    "        return medium_cool\n",
    "    elif func == 3:\n",
    "        return super_cool\n",
    "    else:\n",
    "        return 'Nobody knows how cool I am.'\n",
    "\n",
    "\n",
    "# creates a version of the cool function, with a custom argument\n",
    "var1 = cool(1)\n",
    "var2 = cool(2)\n",
    "var3 = cool(3)\n",
    "\n",
    "# since the cool function returns a function, you can pass an arg to the inner function\n",
    "print(var1('Francis'))  # Francis, that is NOT cool.\n",
    "print(var2('Beork'))  # Beork, I am kind of cool.\n",
    "print(var3('Freda'))  # Freda, I am very cool!\n",
    "\n",
    "# calling the 3 variables, without a name argument\n",
    "print(var1())  # You might be cool, but you have no name.\n",
    "print(var2())  # You might be cool, but you have no name.\n",
    "print(var3())  # You might be cool, but you have no name.\n"
   ]
  },
  {
   "cell_type": "code",
   "execution_count": null,
   "metadata": {},
   "outputs": [],
   "source": []
  }
 ],
 "metadata": {
  "kernelspec": {
   "display_name": "Python 3",
   "language": "python",
   "name": "python3"
  },
  "language_info": {
   "codemirror_mode": {
    "name": "ipython",
    "version": 3
   },
   "file_extension": ".py",
   "mimetype": "text/x-python",
   "name": "python",
   "nbconvert_exporter": "python",
   "pygments_lexer": "ipython3",
   "version": "3.7.1"
  }
 },
 "nbformat": 4,
 "nbformat_minor": 2
}
